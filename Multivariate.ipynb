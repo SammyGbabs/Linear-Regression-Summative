{
  "nbformat": 4,
  "nbformat_minor": 0,
  "metadata": {
    "colab": {
      "provenance": [],
      "authorship_tag": "ABX9TyODRTkqHnJJlIUARX+YpQMY",
      "include_colab_link": true
    },
    "kernelspec": {
      "name": "python3",
      "display_name": "Python 3"
    },
    "language_info": {
      "name": "python"
    }
  },
  "cells": [
    {
      "cell_type": "markdown",
      "metadata": {
        "id": "view-in-github",
        "colab_type": "text"
      },
      "source": [
        "<a href=\"https://colab.research.google.com/github/SammyGbabs/Linear-Regression-Summative/blob/main/Multivariate.ipynb\" target=\"_parent\"><img src=\"https://colab.research.google.com/assets/colab-badge.svg\" alt=\"Open In Colab\"/></a>"
      ]
    },
    {
      "cell_type": "code",
      "execution_count": 23,
      "metadata": {
        "id": "N2j16oX1qqe1"
      },
      "outputs": [],
      "source": [
        "import numpy as np\n",
        "import pandas as pd\n",
        "import pickle as pk\n",
        "import matplotlib.pyplot as plt\n",
        "import seaborn as sns\n",
        "from sklearn.model_selection import train_test_split\n",
        "from sklearn.linear_model import LinearRegression\n",
        "from sklearn.metrics import mean_squared_error, mean_absolute_error\n",
        "from sklearn.preprocessing import LabelEncoder\n",
        "from sklearn.preprocessing import StandardScaler\n",
        "from sklearn.metrics import r2_score"
      ]
    },
    {
      "cell_type": "code",
      "source": [
        "df = pd.read_csv('Temperature.csv')"
      ],
      "metadata": {
        "id": "GMfCCUIrt4P4"
      },
      "execution_count": 3,
      "outputs": []
    },
    {
      "cell_type": "code",
      "source": [
        "# Print some part of the dataset.\n",
        "df.head()"
      ],
      "metadata": {
        "colab": {
          "base_uri": "https://localhost:8080/",
          "height": 206
        },
        "id": "a_k6hmj1Af7b",
        "outputId": "899ddfd8-6b7b-4c34-8da8-c300da18fb98"
      },
      "execution_count": 4,
      "outputs": [
        {
          "output_type": "execute_result",
          "data": {
            "text/plain": [
              "       city         country  population   EU coastline  latitude  longitude  \\\n",
              "0   Aalborg         Denmark        5.69  yes       yes     57.03       9.92   \n",
              "1  Aberdeen  United Kingdom       65.11  yes       yes     57.17      -2.08   \n",
              "2    Abisko          Sweden        9.85  yes       yes     63.35      18.83   \n",
              "3     Adana          Turkey       79.62   no       yes     36.99      35.32   \n",
              "4  Albacete           Spain       46.06  yes       yes     39.00      -1.87   \n",
              "\n",
              "   temperature  \n",
              "0         7.52  \n",
              "1         8.10  \n",
              "2         0.20  \n",
              "3        18.67  \n",
              "4        12.62  "
            ],
            "text/html": [
              "\n",
              "  <div id=\"df-526e0a1f-1e3f-46bd-985d-11e15adecb7f\" class=\"colab-df-container\">\n",
              "    <div>\n",
              "<style scoped>\n",
              "    .dataframe tbody tr th:only-of-type {\n",
              "        vertical-align: middle;\n",
              "    }\n",
              "\n",
              "    .dataframe tbody tr th {\n",
              "        vertical-align: top;\n",
              "    }\n",
              "\n",
              "    .dataframe thead th {\n",
              "        text-align: right;\n",
              "    }\n",
              "</style>\n",
              "<table border=\"1\" class=\"dataframe\">\n",
              "  <thead>\n",
              "    <tr style=\"text-align: right;\">\n",
              "      <th></th>\n",
              "      <th>city</th>\n",
              "      <th>country</th>\n",
              "      <th>population</th>\n",
              "      <th>EU</th>\n",
              "      <th>coastline</th>\n",
              "      <th>latitude</th>\n",
              "      <th>longitude</th>\n",
              "      <th>temperature</th>\n",
              "    </tr>\n",
              "  </thead>\n",
              "  <tbody>\n",
              "    <tr>\n",
              "      <th>0</th>\n",
              "      <td>Aalborg</td>\n",
              "      <td>Denmark</td>\n",
              "      <td>5.69</td>\n",
              "      <td>yes</td>\n",
              "      <td>yes</td>\n",
              "      <td>57.03</td>\n",
              "      <td>9.92</td>\n",
              "      <td>7.52</td>\n",
              "    </tr>\n",
              "    <tr>\n",
              "      <th>1</th>\n",
              "      <td>Aberdeen</td>\n",
              "      <td>United Kingdom</td>\n",
              "      <td>65.11</td>\n",
              "      <td>yes</td>\n",
              "      <td>yes</td>\n",
              "      <td>57.17</td>\n",
              "      <td>-2.08</td>\n",
              "      <td>8.10</td>\n",
              "    </tr>\n",
              "    <tr>\n",
              "      <th>2</th>\n",
              "      <td>Abisko</td>\n",
              "      <td>Sweden</td>\n",
              "      <td>9.85</td>\n",
              "      <td>yes</td>\n",
              "      <td>yes</td>\n",
              "      <td>63.35</td>\n",
              "      <td>18.83</td>\n",
              "      <td>0.20</td>\n",
              "    </tr>\n",
              "    <tr>\n",
              "      <th>3</th>\n",
              "      <td>Adana</td>\n",
              "      <td>Turkey</td>\n",
              "      <td>79.62</td>\n",
              "      <td>no</td>\n",
              "      <td>yes</td>\n",
              "      <td>36.99</td>\n",
              "      <td>35.32</td>\n",
              "      <td>18.67</td>\n",
              "    </tr>\n",
              "    <tr>\n",
              "      <th>4</th>\n",
              "      <td>Albacete</td>\n",
              "      <td>Spain</td>\n",
              "      <td>46.06</td>\n",
              "      <td>yes</td>\n",
              "      <td>yes</td>\n",
              "      <td>39.00</td>\n",
              "      <td>-1.87</td>\n",
              "      <td>12.62</td>\n",
              "    </tr>\n",
              "  </tbody>\n",
              "</table>\n",
              "</div>\n",
              "    <div class=\"colab-df-buttons\">\n",
              "\n",
              "  <div class=\"colab-df-container\">\n",
              "    <button class=\"colab-df-convert\" onclick=\"convertToInteractive('df-526e0a1f-1e3f-46bd-985d-11e15adecb7f')\"\n",
              "            title=\"Convert this dataframe to an interactive table.\"\n",
              "            style=\"display:none;\">\n",
              "\n",
              "  <svg xmlns=\"http://www.w3.org/2000/svg\" height=\"24px\" viewBox=\"0 -960 960 960\">\n",
              "    <path d=\"M120-120v-720h720v720H120Zm60-500h600v-160H180v160Zm220 220h160v-160H400v160Zm0 220h160v-160H400v160ZM180-400h160v-160H180v160Zm440 0h160v-160H620v160ZM180-180h160v-160H180v160Zm440 0h160v-160H620v160Z\"/>\n",
              "  </svg>\n",
              "    </button>\n",
              "\n",
              "  <style>\n",
              "    .colab-df-container {\n",
              "      display:flex;\n",
              "      gap: 12px;\n",
              "    }\n",
              "\n",
              "    .colab-df-convert {\n",
              "      background-color: #E8F0FE;\n",
              "      border: none;\n",
              "      border-radius: 50%;\n",
              "      cursor: pointer;\n",
              "      display: none;\n",
              "      fill: #1967D2;\n",
              "      height: 32px;\n",
              "      padding: 0 0 0 0;\n",
              "      width: 32px;\n",
              "    }\n",
              "\n",
              "    .colab-df-convert:hover {\n",
              "      background-color: #E2EBFA;\n",
              "      box-shadow: 0px 1px 2px rgba(60, 64, 67, 0.3), 0px 1px 3px 1px rgba(60, 64, 67, 0.15);\n",
              "      fill: #174EA6;\n",
              "    }\n",
              "\n",
              "    .colab-df-buttons div {\n",
              "      margin-bottom: 4px;\n",
              "    }\n",
              "\n",
              "    [theme=dark] .colab-df-convert {\n",
              "      background-color: #3B4455;\n",
              "      fill: #D2E3FC;\n",
              "    }\n",
              "\n",
              "    [theme=dark] .colab-df-convert:hover {\n",
              "      background-color: #434B5C;\n",
              "      box-shadow: 0px 1px 3px 1px rgba(0, 0, 0, 0.15);\n",
              "      filter: drop-shadow(0px 1px 2px rgba(0, 0, 0, 0.3));\n",
              "      fill: #FFFFFF;\n",
              "    }\n",
              "  </style>\n",
              "\n",
              "    <script>\n",
              "      const buttonEl =\n",
              "        document.querySelector('#df-526e0a1f-1e3f-46bd-985d-11e15adecb7f button.colab-df-convert');\n",
              "      buttonEl.style.display =\n",
              "        google.colab.kernel.accessAllowed ? 'block' : 'none';\n",
              "\n",
              "      async function convertToInteractive(key) {\n",
              "        const element = document.querySelector('#df-526e0a1f-1e3f-46bd-985d-11e15adecb7f');\n",
              "        const dataTable =\n",
              "          await google.colab.kernel.invokeFunction('convertToInteractive',\n",
              "                                                    [key], {});\n",
              "        if (!dataTable) return;\n",
              "\n",
              "        const docLinkHtml = 'Like what you see? Visit the ' +\n",
              "          '<a target=\"_blank\" href=https://colab.research.google.com/notebooks/data_table.ipynb>data table notebook</a>'\n",
              "          + ' to learn more about interactive tables.';\n",
              "        element.innerHTML = '';\n",
              "        dataTable['output_type'] = 'display_data';\n",
              "        await google.colab.output.renderOutput(dataTable, element);\n",
              "        const docLink = document.createElement('div');\n",
              "        docLink.innerHTML = docLinkHtml;\n",
              "        element.appendChild(docLink);\n",
              "      }\n",
              "    </script>\n",
              "  </div>\n",
              "\n",
              "\n",
              "<div id=\"df-7f6dffb0-883a-4528-be60-3da1c94cb7cd\">\n",
              "  <button class=\"colab-df-quickchart\" onclick=\"quickchart('df-7f6dffb0-883a-4528-be60-3da1c94cb7cd')\"\n",
              "            title=\"Suggest charts\"\n",
              "            style=\"display:none;\">\n",
              "\n",
              "<svg xmlns=\"http://www.w3.org/2000/svg\" height=\"24px\"viewBox=\"0 0 24 24\"\n",
              "     width=\"24px\">\n",
              "    <g>\n",
              "        <path d=\"M19 3H5c-1.1 0-2 .9-2 2v14c0 1.1.9 2 2 2h14c1.1 0 2-.9 2-2V5c0-1.1-.9-2-2-2zM9 17H7v-7h2v7zm4 0h-2V7h2v10zm4 0h-2v-4h2v4z\"/>\n",
              "    </g>\n",
              "</svg>\n",
              "  </button>\n",
              "\n",
              "<style>\n",
              "  .colab-df-quickchart {\n",
              "      --bg-color: #E8F0FE;\n",
              "      --fill-color: #1967D2;\n",
              "      --hover-bg-color: #E2EBFA;\n",
              "      --hover-fill-color: #174EA6;\n",
              "      --disabled-fill-color: #AAA;\n",
              "      --disabled-bg-color: #DDD;\n",
              "  }\n",
              "\n",
              "  [theme=dark] .colab-df-quickchart {\n",
              "      --bg-color: #3B4455;\n",
              "      --fill-color: #D2E3FC;\n",
              "      --hover-bg-color: #434B5C;\n",
              "      --hover-fill-color: #FFFFFF;\n",
              "      --disabled-bg-color: #3B4455;\n",
              "      --disabled-fill-color: #666;\n",
              "  }\n",
              "\n",
              "  .colab-df-quickchart {\n",
              "    background-color: var(--bg-color);\n",
              "    border: none;\n",
              "    border-radius: 50%;\n",
              "    cursor: pointer;\n",
              "    display: none;\n",
              "    fill: var(--fill-color);\n",
              "    height: 32px;\n",
              "    padding: 0;\n",
              "    width: 32px;\n",
              "  }\n",
              "\n",
              "  .colab-df-quickchart:hover {\n",
              "    background-color: var(--hover-bg-color);\n",
              "    box-shadow: 0 1px 2px rgba(60, 64, 67, 0.3), 0 1px 3px 1px rgba(60, 64, 67, 0.15);\n",
              "    fill: var(--button-hover-fill-color);\n",
              "  }\n",
              "\n",
              "  .colab-df-quickchart-complete:disabled,\n",
              "  .colab-df-quickchart-complete:disabled:hover {\n",
              "    background-color: var(--disabled-bg-color);\n",
              "    fill: var(--disabled-fill-color);\n",
              "    box-shadow: none;\n",
              "  }\n",
              "\n",
              "  .colab-df-spinner {\n",
              "    border: 2px solid var(--fill-color);\n",
              "    border-color: transparent;\n",
              "    border-bottom-color: var(--fill-color);\n",
              "    animation:\n",
              "      spin 1s steps(1) infinite;\n",
              "  }\n",
              "\n",
              "  @keyframes spin {\n",
              "    0% {\n",
              "      border-color: transparent;\n",
              "      border-bottom-color: var(--fill-color);\n",
              "      border-left-color: var(--fill-color);\n",
              "    }\n",
              "    20% {\n",
              "      border-color: transparent;\n",
              "      border-left-color: var(--fill-color);\n",
              "      border-top-color: var(--fill-color);\n",
              "    }\n",
              "    30% {\n",
              "      border-color: transparent;\n",
              "      border-left-color: var(--fill-color);\n",
              "      border-top-color: var(--fill-color);\n",
              "      border-right-color: var(--fill-color);\n",
              "    }\n",
              "    40% {\n",
              "      border-color: transparent;\n",
              "      border-right-color: var(--fill-color);\n",
              "      border-top-color: var(--fill-color);\n",
              "    }\n",
              "    60% {\n",
              "      border-color: transparent;\n",
              "      border-right-color: var(--fill-color);\n",
              "    }\n",
              "    80% {\n",
              "      border-color: transparent;\n",
              "      border-right-color: var(--fill-color);\n",
              "      border-bottom-color: var(--fill-color);\n",
              "    }\n",
              "    90% {\n",
              "      border-color: transparent;\n",
              "      border-bottom-color: var(--fill-color);\n",
              "    }\n",
              "  }\n",
              "</style>\n",
              "\n",
              "  <script>\n",
              "    async function quickchart(key) {\n",
              "      const quickchartButtonEl =\n",
              "        document.querySelector('#' + key + ' button');\n",
              "      quickchartButtonEl.disabled = true;  // To prevent multiple clicks.\n",
              "      quickchartButtonEl.classList.add('colab-df-spinner');\n",
              "      try {\n",
              "        const charts = await google.colab.kernel.invokeFunction(\n",
              "            'suggestCharts', [key], {});\n",
              "      } catch (error) {\n",
              "        console.error('Error during call to suggestCharts:', error);\n",
              "      }\n",
              "      quickchartButtonEl.classList.remove('colab-df-spinner');\n",
              "      quickchartButtonEl.classList.add('colab-df-quickchart-complete');\n",
              "    }\n",
              "    (() => {\n",
              "      let quickchartButtonEl =\n",
              "        document.querySelector('#df-7f6dffb0-883a-4528-be60-3da1c94cb7cd button');\n",
              "      quickchartButtonEl.style.display =\n",
              "        google.colab.kernel.accessAllowed ? 'block' : 'none';\n",
              "    })();\n",
              "  </script>\n",
              "</div>\n",
              "\n",
              "    </div>\n",
              "  </div>\n"
            ],
            "application/vnd.google.colaboratory.intrinsic+json": {
              "type": "dataframe",
              "variable_name": "df",
              "summary": "{\n  \"name\": \"df\",\n  \"rows\": 213,\n  \"fields\": [\n    {\n      \"column\": \"city\",\n      \"properties\": {\n        \"dtype\": \"string\",\n        \"num_unique_values\": 212,\n        \"samples\": [\n          \"Bielefeld\",\n          \"Salamanca\",\n          \"Milan\"\n        ],\n        \"semantic_type\": \"\",\n        \"description\": \"\"\n      }\n    },\n    {\n      \"column\": \"country\",\n      \"properties\": {\n        \"dtype\": \"category\",\n        \"num_unique_values\": 37,\n        \"samples\": [\n          \"Ukraine\",\n          \"Switzerland\",\n          \"Spain\"\n        ],\n        \"semantic_type\": \"\",\n        \"description\": \"\"\n      }\n    },\n    {\n      \"column\": \"population\",\n      \"properties\": {\n        \"dtype\": \"number\",\n        \"std\": 28.72781902746779,\n        \"min\": 0.07,\n        \"max\": 80.68,\n        \"num_unique_values\": 37,\n        \"samples\": [\n          44.62,\n          8.38,\n          46.06\n        ],\n        \"semantic_type\": \"\",\n        \"description\": \"\"\n      }\n    },\n    {\n      \"column\": \"EU\",\n      \"properties\": {\n        \"dtype\": \"category\",\n        \"num_unique_values\": 2,\n        \"samples\": [\n          \"no\",\n          \"yes\"\n        ],\n        \"semantic_type\": \"\",\n        \"description\": \"\"\n      }\n    },\n    {\n      \"column\": \"coastline\",\n      \"properties\": {\n        \"dtype\": \"category\",\n        \"num_unique_values\": 2,\n        \"samples\": [\n          \"no\",\n          \"yes\"\n        ],\n        \"semantic_type\": \"\",\n        \"description\": \"\"\n      }\n    },\n    {\n      \"column\": \"latitude\",\n      \"properties\": {\n        \"dtype\": \"number\",\n        \"std\": 6.730961269668941,\n        \"min\": 36.13,\n        \"max\": 67.85,\n        \"num_unique_values\": 206,\n        \"samples\": [\n          48.35,\n          42.5\n        ],\n        \"semantic_type\": \"\",\n        \"description\": \"\"\n      }\n    },\n    {\n      \"column\": \"longitude\",\n      \"properties\": {\n        \"dtype\": \"number\",\n        \"std\": 13.06801359692044,\n        \"min\": -9.14,\n        \"max\": 41.93,\n        \"num_unique_values\": 210,\n        \"samples\": [\n          8.53,\n          -5.67\n        ],\n        \"semantic_type\": \"\",\n        \"description\": \"\"\n      }\n    },\n    {\n      \"column\": \"temperature\",\n      \"properties\": {\n        \"dtype\": \"number\",\n        \"std\": 3.561231373967179,\n        \"min\": -2.2,\n        \"max\": 18.67,\n        \"num_unique_values\": 180,\n        \"samples\": [\n          8.23,\n          9.78\n        ],\n        \"semantic_type\": \"\",\n        \"description\": \"\"\n      }\n    }\n  ]\n}"
            }
          },
          "metadata": {},
          "execution_count": 4
        }
      ]
    },
    {
      "cell_type": "code",
      "source": [
        "# Initialize LabelEncoders for each categorical feature\n",
        "le_city = LabelEncoder()\n",
        "le_country = LabelEncoder()\n",
        "le_eu = LabelEncoder()\n",
        "le_coastline = LabelEncoder()\n",
        "\n",
        "# Encode each feature and replace the original columns\n",
        "df['city'] = le_city.fit_transform(df['city'])\n",
        "df['country'] = le_country.fit_transform(df['country'])\n",
        "df['EU'] = le_eu.fit_transform(df['EU'])\n",
        "df['coastline'] = le_coastline.fit_transform(df['coastline'])\n",
        "\n",
        "# Print the head of the dataframe to check the transformations\n",
        "print(df.head())"
      ],
      "metadata": {
        "colab": {
          "base_uri": "https://localhost:8080/"
        },
        "id": "nm8fgtNcAhv5",
        "outputId": "dc8ba30f-7b3d-4e4b-8753-a3273035fe69"
      },
      "execution_count": 5,
      "outputs": [
        {
          "output_type": "stream",
          "name": "stdout",
          "text": [
            "   city  country  population  EU  coastline  latitude  longitude  temperature\n",
            "0     0        9        5.69   1          1     57.03       9.92         7.52\n",
            "1     1       36       65.11   1          1     57.17      -2.08         8.10\n",
            "2     2       32        9.85   1          1     63.35      18.83         0.20\n",
            "3     3       34       79.62   0          1     36.99      35.32        18.67\n",
            "4     4       31       46.06   1          1     39.00      -1.87        12.62\n"
          ]
        }
      ]
    },
    {
      "cell_type": "code",
      "source": [
        "#calculating correlation matrix and plot the heatmap in order to get the important colums\n",
        "# Calculating the correlation matrix\n",
        "correlation_matrix = df.corr()\n",
        "\n",
        "# Plotting the heatmap using Seaborn\n",
        "plt.figure(figsize=(8, 6))\n",
        "sns.heatmap(correlation_matrix, annot=True, cmap='coolwarm', vmin=-1, vmax=1)\n",
        "plt.title('Correlation Matrix Heatmap')\n",
        "plt.show()"
      ],
      "metadata": {
        "colab": {
          "base_uri": "https://localhost:8080/",
          "height": 618
        },
        "id": "_v3Z7eqWBJ_v",
        "outputId": "a81e1327-1bee-45f0-da19-d3a33a2eaf43"
      },
      "execution_count": 6,
      "outputs": [
        {
          "output_type": "display_data",
          "data": {
            "text/plain": [
              "<Figure size 800x600 with 2 Axes>"
            ],
            "image/png": "[encoded data removed]"
          },
          "metadata": {}
        }
      ]
    },
    {
      "cell_type": "code",
      "source": [
        "# Display the correlation with the target variable (temperature)\n",
        "correlation_with_target = correlation_matrix['temperature'].sort_values(ascending=False)\n",
        "print(correlation_with_target)"
      ],
      "metadata": {
        "colab": {
          "base_uri": "https://localhost:8080/"
        },
        "id": "P7HsI4O7GAfw",
        "outputId": "cee87f7e-c98d-4bc9-9fae-24d405c2507a"
      },
      "execution_count": 7,
      "outputs": [
        {
          "output_type": "stream",
          "name": "stdout",
          "text": [
            "temperature    1.000000\n",
            "population     0.323444\n",
            "coastline      0.199414\n",
            "country        0.114270\n",
            "EU             0.085251\n",
            "city          -0.078016\n",
            "longitude     -0.169308\n",
            "latitude      -0.824105\n",
            "Name: temperature, dtype: float64\n"
          ]
        }
      ]
    },
    {
      "cell_type": "markdown",
      "source": [
        "Based on the printed correlation with target, I set a threshold of 0.1, which means that columns with an absolute correlation below this threshold will be dropped. Therefore columns that will be dropped are;\n",
        "\n",
        "1. Country (0.11): Although the correlation is slightly above the threshold of |0.1|, it is still quite low and does not provide significant information about the temperature. Thus, it is not expected to have a strong influence on the model's performance.\n",
        "\n",
        "2. EU (0.085): The correlation value is below the threshold of |0.1|, indicating a very weak relationship with the temperature. Including this column is unlikely to improve the model's predictive accuracy.\n",
        "\n",
        "3. City (-0.078): The correlation value is below the threshold of |0.1| and is negative, indicating an even weaker relationship with the temperature. This suggests that the specific city name does not provide useful information for predicting temperature and can be excluded.\n",
        "\n",
        "4. Longitude (-0.169): Although the correlation is higher than the other dropped columns, it is still relatively low and negative. This means that the longitude does not strongly influence the temperature and might introduce noise into the model rather than useful information."
      ],
      "metadata": {
        "id": "YD4i_MD6H4gI"
      }
    },
    {
      "cell_type": "code",
      "source": [
        "# Drop columns with low correlation\n",
        "df1 = df.drop(['country', 'EU', 'city', 'longitude'], axis=1)\n",
        "\n",
        "#Checkig the remaining columns that are not dropped\n",
        "print(df1.columns)"
      ],
      "metadata": {
        "colab": {
          "base_uri": "https://localhost:8080/"
        },
        "id": "4Foit_oNLXo-",
        "outputId": "006fa41d-b057-42f1-8c66-ce83e11e1ce8"
      },
      "execution_count": 8,
      "outputs": [
        {
          "output_type": "stream",
          "name": "stdout",
          "text": [
            "Index(['population', 'coastline', 'latitude', 'temperature'], dtype='object')\n"
          ]
        }
      ]
    },
    {
      "cell_type": "code",
      "source": [
        "# Define features and target\n",
        "features = ['population', 'coastline', 'latitude']\n",
        "target = 'temperature'\n",
        "\n",
        "X = df1[features]\n",
        "Y = df1[target]\n",
        "\n",
        "#Train-Test split\n",
        "X_train, X_test, Y_train, Y_test = train_test_split(X, Y, test_size=0.2, random_state=101)\n",
        "\n",
        "# Initialize the Scaler\n",
        "scaler = StandardScaler()\n",
        "\n",
        "# Fit and transform the scaler on the training data, then transform the test data\n",
        "X_train_scaled = scaler.fit_transform(X_train)\n",
        "X_test_scaled = scaler.transform(X_test)"
      ],
      "metadata": {
        "id": "_8FqjJP4Lbgf"
      },
      "execution_count": 9,
      "outputs": []
    },
    {
      "cell_type": "code",
      "source": [
        "# Initializing the Linear Regression Model\n",
        "model = LinearRegression()"
      ],
      "metadata": {
        "id": "i0Wy6qw0RZU_"
      },
      "execution_count": 10,
      "outputs": []
    },
    {
      "cell_type": "code",
      "source": [
        "# Training the Model\n",
        "model.fit(X_train_scaled, Y_train)\n",
        "\n",
        "# Making Predictions\n",
        "Y_train_pred = model.predict(X_train_scaled)\n",
        "Y_test_pred = model.predict(X_test_scaled)"
      ],
      "metadata": {
        "id": "dL-vrA46UnZw"
      },
      "execution_count": 11,
      "outputs": []
    },
    {
      "cell_type": "code",
      "source": [
        "# Evaluate the model on the test set\n",
        "mse_test = mean_squared_error(Y_test, Y_test_pred)\n",
        "mae_test = mean_absolute_error(Y_test, Y_test_pred)\n",
        "test_score = model.score(X_test_scaled, Y_test) * 100\n",
        "\n",
        "# Evaluate the model on the training set\n",
        "mse_train = mean_squared_error(Y_train, Y_train_pred)\n",
        "mae_train = mean_absolute_error(Y_train, Y_train_pred)\n",
        "train_score = model.score(X_train_scaled, Y_train) * 100\n"
      ],
      "metadata": {
        "id": "HTjdX7KMrtTB"
      },
      "execution_count": 20,
      "outputs": []
    },
    {
      "cell_type": "code",
      "source": [
        "# Print the evaluation metrics for the test set\n",
        "print(f\"Test Mean Squared Error (MSE): {mse_test:.4f}\")\n",
        "print(f\"Test Mean Absolute Error (MAE): {mae_test:.4f}\")\n",
        "print(f\"Test R-squared (R²) score: {test_score:.4f}\")\n",
        "\n",
        "# Print the evaluation metrics for the training set\n",
        "print(f\"Train Mean Squared Error (MSE): {mse_train:.4f}\")\n",
        "print(f\"Train Mean Absolute Error (MAE): {mae_train:.4f}\")\n",
        "print(f\"Train R-squared (R²) score: {train_score:.4f}\")"
      ],
      "metadata": {
        "colab": {
          "base_uri": "https://localhost:8080/"
        },
        "id": "4cqgd2fNZgYz",
        "outputId": "6d83814b-0fad-46d7-f11e-885e9684ccb4"
      },
      "execution_count": 21,
      "outputs": [
        {
          "output_type": "stream",
          "name": "stdout",
          "text": [
            "Test Mean Squared Error (MSE): 2.3072\n",
            "Test Mean Absolute Error (MAE): 1.1883\n",
            "Test R-squared (R²) score: 76.8227\n",
            "Train Mean Squared Error (MSE): 4.0271\n",
            "Train Mean Absolute Error (MAE): 1.6433\n",
            "Train R-squared (R²) score: 69.4894\n"
          ]
        }
      ]
    },
    {
      "cell_type": "code",
      "source": [
        "#Saving my model using pickle\n",
        "with open('temperature.pkl', 'wb') as file:\n",
        "    pk.dump(model, file)"
      ],
      "metadata": {
        "id": "JSxD6VFi1lNC"
      },
      "execution_count": 25,
      "outputs": []
    }
  ]
}